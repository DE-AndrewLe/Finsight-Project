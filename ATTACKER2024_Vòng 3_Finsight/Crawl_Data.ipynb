{
 "cells": [
  {
   "cell_type": "code",
   "execution_count": 1,
   "metadata": {},
   "outputs": [],
   "source": [
    "import vnstock\n",
    "import pandas as pd\n",
    "import numpy as np"
   ]
  },
  {
   "cell_type": "code",
   "execution_count": 2,
   "metadata": {},
   "outputs": [],
   "source": [
    "data = vnstock.stock_historical_data('HDB','2020-05-01','2024-04-11','1D')"
   ]
  },
  {
   "cell_type": "code",
   "execution_count": 3,
   "metadata": {},
   "outputs": [],
   "source": [
    "# Đổi tên cột 'Time' thành 'Date'\n",
    "def processing(df):\n",
    "    df = df.rename(columns={'time': 'Date'})\n",
    "    df = df.rename(columns={'open': 'Open'})\n",
    "    df = df.rename(columns={'high': 'High'})\n",
    "    df = df.rename(columns={'low': 'Low'})\n",
    "    df = df.rename(columns={'close': 'Close'})\n",
    "    df = df.rename(columns={'volume': 'Volume'})\n",
    "    df = df.rename(columns={'ticker': 'Ticker'})\n",
    "    df = df.drop('Ticker', axis = 1)\n",
    "    # Chuyển định dạng cột 'Date' thành tháng/ngày/năm\n",
    "    df['Date'] = pd.to_datetime(df['Date']).dt.strftime('%m/%d/%Y')\n",
    "    return df"
   ]
  },
  {
   "cell_type": "code",
   "execution_count": 4,
   "metadata": {},
   "outputs": [],
   "source": [
    "data=processing(data)\n",
    "data.to_csv('HDB.csv',index=False)"
   ]
  }
 ],
 "metadata": {
  "kernelspec": {
   "display_name": "Python 3 (ipykernel)",
   "language": "python",
   "name": "python3"
  },
  "language_info": {
   "codemirror_mode": {
    "name": "ipython",
    "version": 3
   },
   "file_extension": ".py",
   "mimetype": "text/x-python",
   "name": "python",
   "nbconvert_exporter": "python",
   "pygments_lexer": "ipython3",
   "version": "3.11.5"
  }
 },
 "nbformat": 4,
 "nbformat_minor": 2
}
