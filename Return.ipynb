{
 "cells": [
  {
   "cell_type": "code",
   "execution_count": 2,
   "id": "61588bb2",
   "metadata": {},
   "outputs": [
    {
     "name": "stdout",
     "output_type": "stream",
     "text": [
      "Tổng lợi nhuận của danh mục: 0.7290729000000036\n"
     ]
    }
   ],
   "source": [
    "import pandas as pd\n",
    "data = {\n",
    "    'Buy_Price': [27.250, 80.800, 22.700],\n",
    "    'Sell_Price': [28.000, 79.900, 23.500],\n",
    "    'Buy_Quantity': [300, 200, 400],\n",
    "    'Sell_Quantity': [300, 200, 400],\n",
    "}\n",
    "\n",
    "df = pd.DataFrame(data)\n",
    "\n",
    "def calculate_profit(buy_quantity, sell_quantity, buy_price, sell_price, fee_rate, tax_rate):\n",
    "    buy_value = buy_quantity * buy_price\n",
    "    sell_value = sell_quantity * sell_price\n",
    "    total_value = sell_value - buy_value\n",
    "    return total_value * (1 - fee_rate - tax_rate)\n",
    "\n",
    "df['Profit'] = calculate_profit(df['Buy_Quantity'], df['Sell_Quantity'], df['Buy_Price'], df['Sell_Price'], 0.00027, 0.001)\n",
    "total_profit = df['Profit'].sum() / 50000 *100\n",
    "\n",
    "print(\"Tổng lợi nhuận của danh mục:\", total_profit)\n"
   ]
  },
  {
   "cell_type": "code",
   "execution_count": null,
   "id": "561e4f1a",
   "metadata": {},
   "outputs": [],
   "source": []
  }
 ],
 "metadata": {
  "kernelspec": {
   "display_name": "Python 3 (ipykernel)",
   "language": "python",
   "name": "python3"
  },
  "language_info": {
   "codemirror_mode": {
    "name": "ipython",
    "version": 3
   },
   "file_extension": ".py",
   "mimetype": "text/x-python",
   "name": "python",
   "nbconvert_exporter": "python",
   "pygments_lexer": "ipython3",
   "version": "3.11.5"
  }
 },
 "nbformat": 4,
 "nbformat_minor": 5
}
