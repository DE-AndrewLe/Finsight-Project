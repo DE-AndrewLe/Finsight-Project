{
 "cells": [
  {
   "cell_type": "markdown",
   "id": "cab4cb9e",
   "metadata": {},
   "source": [
    "# Công việc"
   ]
  },
  {
   "cell_type": "markdown",
   "id": "8ca09abe",
   "metadata": {},
   "source": [
    "## 1. Bộ lọc cổ phiếu\n",
    "- Lấy bộ lọc của vnstock\n",
    "- Lấy bộ lọc gợi ý\n",
    "- Áp dụng chiến lược beta vượt trội để chỉnh trọng số: https://hub.algotrade.vn/knowledge-hub/chien-luoc-beta-vuot-troi/\n",
    "- Sử dụng các tiêu chí lọc như sau để thiết lập tham số params.\n",
    "\n",
    "- CANSLIM: epsGrowth1Year, lastQuarterProfitGrowth, roe, avgTradingValue20Day, relativeStrength1Month\n",
    "- Giá trị: roe, pe, avgTradingValue20Day\n",
    "- Cổ tức cao: dividendYield, avgTradingValue20Day\n",
    "- Phá nền mua: avgTradingValue20Day, forecastVolumeRatio, breakout: 'BULLISH'\n",
    "- Giá tăng + Đột biến khối lượng: avgTradingValue20Day, forecastVolumeRatio\n",
    "- Vượt đỉnh 52 tuần: avgTradingValue20Day, priceBreakOut52Week: 'BREAK_OUT'\n",
    "- Phá đáy 52 tuần: avgTradingValue20Day, priceWashOut52Week: 'WASH_OUT'\n",
    "- Uptrend ngắn hạn: avgTradingValue20Day, uptrend: 'buy-signal'\n",
    "- Vượt trội ngắn hạn: relativeStrength3Day,\n",
    "- Tăng trưởng: epsGrowth1Year, roe, avgTradingValue20Day"
   ]
  },
  {
   "cell_type": "markdown",
   "id": "88f71dd3",
   "metadata": {},
   "source": [
    "## 2. Xây dựng thuật toán\n",
    "- Chiến lược trung lập thị trường: https://hub.algotrade.vn/knowledge-hub/chien-luoc-trung-lap-thi-truong/\n",
    "- Chiến lược quán tính giá: https://hub.algotrade.vn/knowledge-hub/chien-luoc-quan-tinh-gia/ dùng SMA\n",
    "- Chiến lược hồi quy trung vị: https://hub.algotrade.vn/knowledge-hub/chien-luoc-hoi-quy-trung-vi/\n",
    "- Chiến lược hướng sự kiện: https://hub.algotrade.vn/knowledge-hub/chien-luoc-huong-su-kien/\n",
    "- Cách đầu tư các quỹ chỉ số: https://hub.algotrade.vn/knowledge-hub/chien-luoc-hanh-dong-truoc-tai-can-bang-quy-chi-so/\n",
    "- Chiến lược lưới: https://hub.algotrade.vn/knowledge-hub/chien-luoc-luoi/ note: có thể nghiên cứu các biến động để đưa ra lưới phù hợp kiểu như phân tích kỹ thuật\n"
   ]
  },
  {
   "cell_type": "markdown",
   "id": "2d4bb60e",
   "metadata": {},
   "source": [
    "### Lưu ý: ở mỗi thuật toán sẽ có cách lọc dữ liệu khác nhau như là chiến lược trung lập thị trường thì sẽ dựa vào giá trị nội tại của cổ phiếu thì sẽ lấy chỉ số xếp hạng định giá của vn stock general_rating(\"VNM\")"
   ]
  },
  {
   "cell_type": "code",
   "execution_count": null,
   "id": "8ed245b4",
   "metadata": {},
   "outputs": [],
   "source": []
  }
 ],
 "metadata": {
  "kernelspec": {
   "display_name": "Python 3 (ipykernel)",
   "language": "python",
   "name": "python3"
  },
  "language_info": {
   "codemirror_mode": {
    "name": "ipython",
    "version": 3
   },
   "file_extension": ".py",
   "mimetype": "text/x-python",
   "name": "python",
   "nbconvert_exporter": "python",
   "pygments_lexer": "ipython3",
   "version": "3.11.5"
  }
 },
 "nbformat": 4,
 "nbformat_minor": 5
}
